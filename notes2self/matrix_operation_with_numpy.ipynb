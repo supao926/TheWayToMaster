{
 "cells": [
  {
   "cell_type": "markdown",
   "metadata": {},
   "source": [
    "## The array system of numpy is not exactly like vector in lienar algebra!"
   ]
  },
  {
   "cell_type": "markdown",
   "metadata": {},
   "source": [
    "### 1D array is not either a row vector or column vector, I regard it like a simplified row vector, but can't do the transpose."
   ]
  },
  {
   "cell_type": "code",
   "execution_count": null,
   "metadata": {},
   "outputs": [
    {
     "name": "stdout",
     "output_type": "stream",
     "text": [
      "(3,)\n",
      "(3, 1) (1, 3)\n"
     ]
    }
   ],
   "source": [
    "import numpy as np\n",
    "vec = np.array([1, 3, 5])\n",
    "\n",
    "print(vec.shape)\n",
    "\n",
    "column_vec = np.array([[2],[4],[6]])\n",
    "row_vec = np.array([[3, 5, 7]])\n",
    "print(column_vec.shape, row_vec.shape)"
   ]
  },
  {
   "cell_type": "markdown",
   "metadata": {},
   "source": [
    "### We can tell that 1D array is similar to 2D array(row vector) in many ways, but the biggest difference is that the transpose of 1D array is itself."
   ]
  },
  {
   "cell_type": "code",
   "execution_count": 13,
   "metadata": {},
   "outputs": [
    {
     "name": "stdout",
     "output_type": "stream",
     "text": [
      "hstack:  (6,) [1 3 5 2 4 6]\n",
      "vstack:  (2, 3) \n",
      " [[1 3 5]\n",
      " [2 4 6]]\n",
      "Transpose of 1D array:  (3,)\n"
     ]
    }
   ],
   "source": [
    "# Start with stacking with 1D array\n",
    "vec_1D1 = np.array([1, 3, 5])\n",
    "vec_1D2 = np.array([2, 4, 6])\n",
    "x = np.hstack((vec_1D1 ,vec_1D2))\n",
    "print(\"hstack: \", x.shape, x)\n",
    "\n",
    "y = np.vstack((vec_1D1 ,vec_1D2))\n",
    "print(\"vstack: \", y.shape,\"\\n\", y)\n",
    "\n",
    "print(\"Transpose of 1D array: \", vec_1D1.T.shape)"
   ]
  },
  {
   "cell_type": "markdown",
   "metadata": {},
   "source": [
    "### Vstack and Hstack is so intuitively"
   ]
  },
  {
   "cell_type": "code",
   "execution_count": 5,
   "metadata": {},
   "outputs": [
    {
     "name": "stdout",
     "output_type": "stream",
     "text": [
      "[[3 5 7 3 5 7]] (1, 6)\n",
      "[[3 5 7]\n",
      " [3 5 7]] (2, 3)\n"
     ]
    }
   ],
   "source": [
    "row_vec = np.array([[3, 5, 7]])\n",
    "row_vec1 = np.array([[3, 3, 3, 3]])\n",
    "\n",
    "z = np.hstack((row_vec, row_vec))\n",
    "print(z, z.shape)\n",
    "\n",
    "v = np.vstack((row_vec, row_vec))\n",
    "print(v, v.shape)"
   ]
  },
  {
   "cell_type": "markdown",
   "metadata": {},
   "source": [
    "### Column stack and row stack are meant for 1D array, and it's so convenient."
   ]
  },
  {
   "cell_type": "code",
   "execution_count": 10,
   "metadata": {},
   "outputs": [
    {
     "name": "stdout",
     "output_type": "stream",
     "text": [
      "[[1 3 5]\n",
      " [2 4 6]] (2, 3)\n",
      "[[1 2]\n",
      " [3 4]\n",
      " [5 6]] (3, 2)\n"
     ]
    }
   ],
   "source": [
    "vec_1D1 = np.array([1, 3, 5])\n",
    "vec_1D2 = np.array([2, 4, 6])\n",
    "\n",
    "x = np.row_stack((vec_1D1, vec_1D2))\n",
    "print(x, x.shape)\n",
    "\n",
    "y = np.column_stack((vec_1D1, vec_1D2))\n",
    "print(y, y.shape)"
   ]
  }
 ],
 "metadata": {
  "kernelspec": {
   "display_name": "Mensius",
   "language": "python",
   "name": "python3"
  },
  "language_info": {
   "codemirror_mode": {
    "name": "ipython",
    "version": 3
   },
   "file_extension": ".py",
   "mimetype": "text/x-python",
   "name": "python",
   "nbconvert_exporter": "python",
   "pygments_lexer": "ipython3",
   "version": "3.12.5"
  }
 },
 "nbformat": 4,
 "nbformat_minor": 2
}
